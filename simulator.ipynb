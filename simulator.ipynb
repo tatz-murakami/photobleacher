{
 "cells": [
  {
   "cell_type": "code",
   "execution_count": null,
   "id": "265c768c-2f5c-43fb-957b-faadcdde87c6",
   "metadata": {},
   "outputs": [],
   "source": [
    "from ipywidgets import interact, FloatSlider, widgets, fixed\n",
    "import numpy as np\n",
    "import matplotlib.pyplot as plt\n",
    "from matplotlib.gridspec import GridSpec\n",
    "from tqdm import tqdm\n",
    "import math\n",
    "from scipy.optimize import curve_fit\n",
    "from bleacher import simulation"
   ]
  },
  {
   "cell_type": "markdown",
   "id": "e4c6f66f-69e4-4542-97a0-c6463cf669de",
   "metadata": {},
   "source": [
    "## Determination of the LED pattern"
   ]
  },
  {
   "cell_type": "code",
   "execution_count": null,
   "id": "abfe9259-ebc0-4e3d-b472-842bd53a11b8",
   "metadata": {},
   "outputs": [],
   "source": [
    "# Define sliders for interactive controls using ipywidgets\n",
    "width_slider = FloatSlider(min=10, max=500, step=5, value=300, description='Width')\n",
    "height_slider = FloatSlider(min=10, max=500, step=5, value=200, description='Height')\n",
    "dx_slider = FloatSlider(min=1, max=50, step=0.5, value=25, description='dx')\n",
    "dy_slider = FloatSlider(min=1, max=50, step=0.5, value=25, description='dy')\n",
    "\n",
    "# Create an interactive plot using interact\n",
    "interact(simulation.plot_grid, width=width_slider, height=height_slider, dx=dx_slider, dy=dy_slider);"
   ]
  },
  {
   "cell_type": "markdown",
   "id": "ca04849e-ff4c-4707-9c51-911511669c35",
   "metadata": {},
   "source": [
    "## Interactive heatmap analysis"
   ]
  },
  {
   "cell_type": "code",
   "execution_count": null,
   "id": "6db9a3a4-7eb3-41af-b9d6-d7809eae7e4b",
   "metadata": {},
   "outputs": [],
   "source": [
    "### plot for single illumination\n",
    "# set parameters\n",
    "width = 160 # prototype: 160, v2: 300, Tsuneoka: 260,\n",
    "height = 260 # prototype: 260, v2: 200, Tsuneoka: 100, \n",
    "dx = 15.5 # prototype: 15.5, v2: 12.5, Tsuneoka: 40, super: 14\n",
    "dy = 17.0 # prototype: 17.0, v2: 12.5, Tsuneoka: 40, super: 14\n",
    "depth = 45  # prototype: 45, xx, v2: 32, Tsuneoka: 5\n",
    "phi = 20 #  prototype: 20 lm, v2: 223 lm, Tsuneoka: 4131 lm, Super: 1000?\n",
    "unit = 0.001 # 0.001 for mm, 0.01 for cm, 1.0 for m\n",
    "\n",
    "board_position = 0.0 # position of the light source in depth direction\n",
    "illumination = 'lambertian' # either lambertian or point\n",
    "grid_constant = 1.0 # sampling frequency in xy"
   ]
  },
  {
   "cell_type": "code",
   "execution_count": null,
   "id": "76db87f8-9d64-4671-8235-46d2eabdd25f",
   "metadata": {},
   "outputs": [],
   "source": [
    "# Define sliders for interactive controls using ipywidgets\n",
    "width_slider = FloatSlider(min=10, max=400, step=5, value=width, description='Width') # v2: 300, Tsuneoka: 260, \n",
    "height_slider = FloatSlider(min=10, max=400, step=5, value=height, description='Height') # v2: 200, Tsuneoka: 100, \n",
    "dx_slider = FloatSlider(min=1, max=50, step=0.5, value=dx, description='dx') # v2: 12.5, Tsuneoka: 40, super: 14\n",
    "dy_slider = FloatSlider(min=1, max=50, step=0.5, value=dy, description='dy') # v2: 12.5, Tsuneoka: 40, super: 14\n",
    "phi_slider = FloatSlider(min=1, max=5000, step=1, value=phi, description='phi') # v2: 177458, Tsuneoka: 3287345, super\n",
    "depth_slider = FloatSlider(min=1, max=100, step=1, value=depth, description='Depth') # v2: 32, Tsuneoka: 5\n",
    "vmax_slider = FloatSlider(min=1, max=1000000, step=10, value=300000, description='vmax')\n",
    "\n",
    "# Create an interactive plot using interact\n",
    "interact(simulation.plot_heatmap, width=width_slider, height=height_slider, dx=dx_slider, dy=dy_slider, \n",
    "         phi=phi_slider, depth=depth_slider, vmax=vmax_slider, \n",
    "         unit=fixed(unit), board_position=fixed(board_position), \n",
    "         grid_constant=fixed(grid_constant), illumination=fixed(illumination));"
   ]
  },
  {
   "cell_type": "code",
   "execution_count": null,
   "id": "4183ef8e-b269-473f-8648-b93600fb2dda",
   "metadata": {},
   "outputs": [],
   "source": [
    "### plot for dual illumination\n",
    "# set parameters\n",
    "board_position1 = 0.0\n",
    "board_position2 = 100.0\n",
    "\n",
    "# Define sliders for interactive controls using ipywidgets\n",
    "width_slider = FloatSlider(min=10, max=400, step=5, value=width, description='Width') # v2: 300, Tsuneoka: 260, \n",
    "height_slider = FloatSlider(min=10, max=400, step=5, value=height, description='Height') # v2: 200, Tsuneoka: 100, \n",
    "dx_slider = FloatSlider(min=1, max=50, step=0.5, value=dx, description='dx') # v2: 12.5, Tsuneoka: 40, super: 14\n",
    "dy_slider = FloatSlider(min=1, max=50, step=0.5, value=dy, description='dy') # v2: 12.5, Tsuneoka: 40, super: 14\n",
    "phi_slider = FloatSlider(min=1, max=5000, step=1, value=phi, description='phi') # v2: 177458, Tsuneoka: 3287345, super\n",
    "depth_slider = FloatSlider(min=1, max=100, step=1, value=depth, description='Depth') # v2: 32, Tsuneoka: 5\n",
    "bp1_slider = FloatSlider(min=0, max=300, step=1, value=board_position1, description='BoardPos1') # default 0\n",
    "bp2_slider = FloatSlider(min=0, max=300, step=1, value=board_position2, description='BoardPos2')\n",
    "vmax_slider = FloatSlider(min=1, max=10000000, step=10, value=3000000, description='vmax')\n",
    "\n",
    "# Create an interactive plot using interact\n",
    "interact(simulation.plot_dual_heatmap, width=width_slider, height=height_slider, dx=dx_slider, dy=dy_slider, \n",
    "         phi=phi_slider, depth=depth_slider, vmax=vmax_slider, \n",
    "         unit=fixed(unit), board_position1=bp1_slider, board_position2=bp2_slider,\n",
    "         grid_constant=fixed(grid_constant), illumination=fixed(illumination));"
   ]
  },
  {
   "cell_type": "code",
   "execution_count": null,
   "id": "5bc9371e-eff0-4859-990a-1b7f0d6eb4c6",
   "metadata": {},
   "outputs": [],
   "source": []
  }
 ],
 "metadata": {
  "kernelspec": {
   "display_name": "bleach",
   "language": "python",
   "name": "bleach"
  },
  "language_info": {
   "codemirror_mode": {
    "name": "ipython",
    "version": 3
   },
   "file_extension": ".py",
   "mimetype": "text/x-python",
   "name": "python",
   "nbconvert_exporter": "python",
   "pygments_lexer": "ipython3",
   "version": "3.9.19"
  }
 },
 "nbformat": 4,
 "nbformat_minor": 5
}
